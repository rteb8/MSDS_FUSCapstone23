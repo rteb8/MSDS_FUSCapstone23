{
  "cells": [
    {
      "cell_type": "code",
      "execution_count": null,
      "id": "a7b990c2-e35c-4d66-83ad-e9793a4f330e",
      "metadata": {
        "colab": {
          "base_uri": "https://localhost:8080/",
          "height": 384
        },
        "id": "a7b990c2-e35c-4d66-83ad-e9793a4f330e",
        "outputId": "a292ef97-c815-4a05-d67b-d92521f40766"
      },
      "outputs": [
        {
          "output_type": "error",
          "ename": "ModuleNotFoundError",
          "evalue": "No module named 'pyreadstat'",
          "traceback": [
            "\u001b[0;31m---------------------------------------------------------------------------\u001b[0m",
            "\u001b[0;31mModuleNotFoundError\u001b[0m                       Traceback (most recent call last)",
            "\u001b[0;32m<ipython-input-1-2fc4e67ad6fb>\u001b[0m in \u001b[0;36m<cell line: 3>\u001b[0;34m()\u001b[0m\n\u001b[1;32m      1\u001b[0m \u001b[0;32mimport\u001b[0m \u001b[0mnumpy\u001b[0m \u001b[0;32mas\u001b[0m \u001b[0mnp\u001b[0m\u001b[0;34m\u001b[0m\u001b[0;34m\u001b[0m\u001b[0m\n\u001b[1;32m      2\u001b[0m \u001b[0;32mimport\u001b[0m \u001b[0mpandas\u001b[0m \u001b[0;32mas\u001b[0m \u001b[0mpd\u001b[0m\u001b[0;34m\u001b[0m\u001b[0;34m\u001b[0m\u001b[0m\n\u001b[0;32m----> 3\u001b[0;31m \u001b[0;32mimport\u001b[0m \u001b[0mpyreadstat\u001b[0m\u001b[0;34m\u001b[0m\u001b[0;34m\u001b[0m\u001b[0m\n\u001b[0m\u001b[1;32m      4\u001b[0m \u001b[0;32mimport\u001b[0m \u001b[0mos\u001b[0m \u001b[0;31m# operating system\u001b[0m\u001b[0;34m\u001b[0m\u001b[0;34m\u001b[0m\u001b[0m\n\u001b[1;32m      5\u001b[0m \u001b[0;32mimport\u001b[0m \u001b[0mopenpyxl\u001b[0m\u001b[0;34m\u001b[0m\u001b[0;34m\u001b[0m\u001b[0m\n",
            "\u001b[0;31mModuleNotFoundError\u001b[0m: No module named 'pyreadstat'",
            "",
            "\u001b[0;31m---------------------------------------------------------------------------\u001b[0;32m\nNOTE: If your import is failing due to a missing package, you can\nmanually install dependencies using either !pip or !apt.\n\nTo view examples of installing some common dependencies, click the\n\"Open Examples\" button below.\n\u001b[0;31m---------------------------------------------------------------------------\u001b[0m\n"
          ],
          "errorDetails": {
            "actions": [
              {
                "action": "open_url",
                "actionText": "Open Examples",
                "url": "/notebooks/snippets/importing_libraries.ipynb"
              }
            ]
          }
        }
      ],
      "source": [
        "import numpy as np\n",
        "import pandas as pd\n",
        "import pyreadstat\n",
        "import os # operating system\n",
        "import openpyxl\n",
        "#os.chdir('/Users/rpana')"
      ]
    },
    {
      "cell_type": "code",
      "source": [
        "!pip install pyreadstat"
      ],
      "metadata": {
        "colab": {
          "base_uri": "https://localhost:8080/"
        },
        "id": "caNn1BDwEdvp",
        "outputId": "a634e3cf-a469-4525-fffe-41b520bc911c"
      },
      "id": "caNn1BDwEdvp",
      "execution_count": null,
      "outputs": [
        {
          "output_type": "stream",
          "name": "stdout",
          "text": [
            "Collecting pyreadstat\n",
            "  Downloading pyreadstat-1.2.6-cp310-cp310-manylinux_2_17_x86_64.manylinux2014_x86_64.whl (2.8 MB)\n",
            "\u001b[2K     \u001b[90m━━━━━━━━━━━━━━━━━━━━━━━━━━━━━━━━━━━━━━━━\u001b[0m \u001b[32m2.8/2.8 MB\u001b[0m \u001b[31m13.8 MB/s\u001b[0m eta \u001b[36m0:00:00\u001b[0m\n",
            "\u001b[?25hRequirement already satisfied: pandas>=1.2.0 in /usr/local/lib/python3.10/dist-packages (from pyreadstat) (1.5.3)\n",
            "Requirement already satisfied: python-dateutil>=2.8.1 in /usr/local/lib/python3.10/dist-packages (from pandas>=1.2.0->pyreadstat) (2.8.2)\n",
            "Requirement already satisfied: pytz>=2020.1 in /usr/local/lib/python3.10/dist-packages (from pandas>=1.2.0->pyreadstat) (2023.4)\n",
            "Requirement already satisfied: numpy>=1.21.0 in /usr/local/lib/python3.10/dist-packages (from pandas>=1.2.0->pyreadstat) (1.25.2)\n",
            "Requirement already satisfied: six>=1.5 in /usr/local/lib/python3.10/dist-packages (from python-dateutil>=2.8.1->pandas>=1.2.0->pyreadstat) (1.16.0)\n",
            "Installing collected packages: pyreadstat\n",
            "Successfully installed pyreadstat-1.2.6\n"
          ]
        }
      ]
    },
    {
      "cell_type": "code",
      "source": [
        "from google.colab import drive\n",
        "drive.mount('/content/drive')"
      ],
      "metadata": {
        "colab": {
          "base_uri": "https://localhost:8080/"
        },
        "id": "L1mQRHld-MuS",
        "outputId": "e8df981f-e79f-4a02-80bf-e36437733504"
      },
      "id": "L1mQRHld-MuS",
      "execution_count": null,
      "outputs": [
        {
          "output_type": "stream",
          "name": "stdout",
          "text": [
            "Mounted at /content/drive\n"
          ]
        }
      ]
    },
    {
      "cell_type": "code",
      "execution_count": null,
      "id": "a28cddad-ea97-41bf-a6f3-682cd86ad3e2",
      "metadata": {
        "id": "a28cddad-ea97-41bf-a6f3-682cd86ad3e2"
      },
      "outputs": [],
      "source": [
        "file1 = pd.read_excel('Copy of Publication_data_2023-02-01 - final.tm2.xlsx',\n",
        "                      sheet_name = 'One-to-one data')\n",
        "file2 = pd.read_excel('Copy of Publication_data_2023-03-01.tm.xlsx',\n",
        "                     sheet_name = 'One-to-one data')\n",
        "file3 = pd.read_excel('Copy of Publication_data_2023-04-03 - final.tm.xlsx',\n",
        "                     sheet_name = 'One-to-one data')\n",
        "file4 = pd.read_excel('Copy of Publication_data_2023-05-01.tm.xlsx',\n",
        "                     sheet_name = 'One-to-one data')\n",
        "file5 = pd.read_excel('Copy of Publication_data_2023-06-01 - final.tm2.xlsx',\n",
        "                     sheet_name = 'One-to-one data')\n",
        "file6 = pd.read_excel('Copy of Publication_data_2023-06-01 - final.tm2.xlsx',\n",
        "                     sheet_name = 'One-to-one data')\n",
        "file7 = pd.read_excel('Copy of Publication_data_2023-08-01 - final.tm1.xlsx',\n",
        "                     sheet_name = 'One-to-one data')\n",
        "file1.head(3).T"
      ]
    },
    {
      "cell_type": "code",
      "execution_count": null,
      "id": "ea3ee3c7-4b89-4e5a-83b9-def717616881",
      "metadata": {
        "id": "ea3ee3c7-4b89-4e5a-83b9-def717616881"
      },
      "outputs": [],
      "source": [
        "print(file1.shape)\n",
        "print(file2.shape)\n",
        "print(file3.shape)\n",
        "print(file4.shape)\n",
        "print(file5.shape)\n",
        "print(file6.shape)\n",
        "print(file7.shape)"
      ]
    },
    {
      "cell_type": "code",
      "execution_count": null,
      "id": "7cea36fb-1340-4ab6-a42a-c546a0c2dd81",
      "metadata": {
        "id": "7cea36fb-1340-4ab6-a42a-c546a0c2dd81"
      },
      "outputs": [],
      "source": [
        "81+44+87+54+79+79+65"
      ]
    },
    {
      "cell_type": "code",
      "execution_count": null,
      "id": "4202f5f6-2d41-433b-bac9-f3fd2269876e",
      "metadata": {
        "id": "4202f5f6-2d41-433b-bac9-f3fd2269876e"
      },
      "outputs": [],
      "source": [
        "all_files = file1.append([file2,file3,file4,file5,file6,file7], ignore_index=True)\n",
        "df = all_files.iloc[:, : 14]"
      ]
    },
    {
      "cell_type": "code",
      "execution_count": null,
      "id": "45e59e39-54ca-457f-8fc4-a3ac09ec2c25",
      "metadata": {
        "id": "45e59e39-54ca-457f-8fc4-a3ac09ec2c25"
      },
      "outputs": [],
      "source": [
        "rename_columns = {'PubMed ID':'pubmed_id',\n",
        "                  'DOI Link':'doi_link',\n",
        "                  'PMC Link':'pmc_link',\n",
        "                  'Article Title':'article_title',\n",
        "                  'ind list':'ind_list',\n",
        "                  'Author List':'author_list',\n",
        "                  'First / Last Author':'first_last_author',\n",
        "                  'Corresponding Author(s)':'corres_author',\n",
        "                  'Article Reference':'article_ref',\n",
        "                  'Publication Type':'pub_type',\n",
        "                  'Abstract':'abstract',\n",
        "                  'Website Page':'web_page',\n",
        "                  'Pubmed Link':'pubmed_link'\n",
        "}\n",
        "df = df.rename(rename_columns,axis=1)"
      ]
    },
    {
      "cell_type": "code",
      "execution_count": null,
      "id": "f5213750-0fe5-4cce-8d9a-6e07eb0284e6",
      "metadata": {
        "id": "f5213750-0fe5-4cce-8d9a-6e07eb0284e6"
      },
      "outputs": [],
      "source": [
        "df['fus_related'] = np.where(df['ind_list'].isna(), 0, 1)"
      ]
    },
    {
      "cell_type": "code",
      "execution_count": null,
      "id": "d3f92c0b-be04-43bc-8dc1-1026cda50d42",
      "metadata": {
        "id": "d3f92c0b-be04-43bc-8dc1-1026cda50d42"
      },
      "outputs": [],
      "source": [
        "df.T"
      ]
    },
    {
      "cell_type": "markdown",
      "id": "9e1be97c-dc1e-472d-9235-65fce7186a44",
      "metadata": {
        "id": "9e1be97c-dc1e-472d-9235-65fce7186a44"
      },
      "source": [
        "# Recoding Outcome Variables (by Body System)"
      ]
    },
    {
      "cell_type": "code",
      "execution_count": null,
      "id": "43971ffc-a66a-4b39-bf98-15fa0298ad38",
      "metadata": {
        "id": "43971ffc-a66a-4b39-bf98-15fa0298ad38"
      },
      "outputs": [],
      "source": [
        "df['fus_related'].value_counts()"
      ]
    },
    {
      "cell_type": "code",
      "execution_count": null,
      "id": "55525e73-1725-49ce-aee6-4f3652f80804",
      "metadata": {
        "id": "55525e73-1725-49ce-aee6-4f3652f80804"
      },
      "outputs": [],
      "source": [
        "df['ind_list'].value_counts()"
      ]
    },
    {
      "cell_type": "code",
      "execution_count": null,
      "id": "06a6db6f-0a26-4b01-85f6-9412bf50685b",
      "metadata": {
        "id": "06a6db6f-0a26-4b01-85f6-9412bf50685b"
      },
      "outputs": [],
      "source": [
        "#combining UF and uf indications\n",
        "df[\"ind_list\"] = df[\"ind_list\"].replace(\"uf\", \"UF\")"
      ]
    },
    {
      "cell_type": "code",
      "execution_count": null,
      "id": "d78157a3-a261-4d9c-9c11-34dfef1eb631",
      "metadata": {
        "id": "d78157a3-a261-4d9c-9c11-34dfef1eb631"
      },
      "outputs": [],
      "source": [
        "#### confirming that UF and uf indications were combined\n",
        "df['ind_list'].value_counts()"
      ]
    },
    {
      "cell_type": "code",
      "execution_count": null,
      "id": "de5e7edb-5416-4283-a5da-29899ef0b0fc",
      "metadata": {
        "id": "de5e7edb-5416-4283-a5da-29899ef0b0fc"
      },
      "outputs": [],
      "source": [
        "#recording indication names so they are easier to identify\n",
        "df[\"ind_list\"] = df[\"ind_list\"].replace(\"UF\", \"uterine fibroids\")\n",
        "df[\"ind_list\"] = df[\"ind_list\"].replace(\"DIPG\", \"diffuse intrinsic pontine glioma\")\n",
        "df[\"ind_list\"] = df[\"ind_list\"].replace(\"AD\", \"alzheimer's disease\")\n",
        "df[\"ind_list\"] = df[\"ind_list\"].replace(\"pd\", \"parkinson's disease\")\n",
        "df[\"ind_list\"] = df[\"ind_list\"].replace(\"PD\", \"parkinson's disease\")\n",
        "df[\"ind_list\"] = df[\"ind_list\"].replace(\"ut adenomyos\", \"uterine adenomyosis\")\n",
        "df[\"ind_list\"] = df[\"ind_list\"].replace(\"ut adenomyosis\", \"uterine adenomyosis\")\n",
        "df[\"ind_list\"] = df[\"ind_list\"].replace(\"GBM\", \"glioblastoma\")\n",
        "df[\"ind_list\"] = df[\"ind_list\"].replace(\"ET, \", \"essential tremor\")\n",
        "df[\"ind_list\"] = df[\"ind_list\"].replace(\"Ablation- other\", \"ablation\")\n",
        "df[\"ind_list\"] = df[\"ind_list\"].replace(\"Retained placenta\", \"retained placenta\")\n",
        "df[\"ind_list\"] = df[\"ind_list\"].replace(\"Pancreatic ca\", \"pancreatic cancer\")\n",
        "df[\"ind_list\"] = df[\"ind_list\"].replace(\"OCD\", \"obsessive compulsive disorder\")\n",
        "df[\"ind_list\"] = df[\"ind_list\"].replace(\"bone mets\", \"bone metastasis\")\n",
        "df[\"ind_list\"] = df[\"ind_list\"].replace(\"Cervical cancer\", \"cervical cancer\")\n",
        "df[\"ind_list\"] = df[\"ind_list\"].replace(\"liver\", \"liver cancer\")\n",
        "df[\"ind_list\"] = df[\"ind_list\"].replace(\"prostate\", \"prostate cancer\")\n",
        "\n",
        "#since there are only two rows with multiple indications, I chose the first indication instead of makingn duplicate rows to simplify the process\n",
        "#this could pose a problem in the future\n",
        "df[\"ind_list\"] = df[\"ind_list\"].replace(\"ET, PD\", \"essential tremor\")"
      ]
    },
    {
      "cell_type": "code",
      "execution_count": null,
      "id": "fc23593f-e8ca-426d-adb2-f32723893813",
      "metadata": {
        "id": "fc23593f-e8ca-426d-adb2-f32723893813"
      },
      "outputs": [],
      "source": [
        "df['ind_list'].value_counts()"
      ]
    },
    {
      "cell_type": "code",
      "execution_count": null,
      "id": "0a240ce5-f675-4a34-904c-1ecfc623849e",
      "metadata": {
        "id": "0a240ce5-f675-4a34-904c-1ecfc623849e"
      },
      "outputs": [],
      "source": [
        "#creating new columns for each body system\n",
        "#deciding that identifying based on indication body system rather than indication alone will be better since\n",
        "df['is_cardiovascular'] = df['ind_list'].apply(lambda x: x == 'atherosclerosis' or x == 'heart failure').astype(int)\n",
        "df['is_endocrine'] = df['ind_list'].apply(lambda x: x == 'obesity').astype(int)\n",
        "#question can we have pancreatic cancer and liver cancer be both gastrointestinal and oncological (we can askt this question in our next meeting)\n",
        "df['is_gastrointestinal'] = df['ind_list'].apply(lambda x: x == 'pancreatic cancer' or x == 'liver cancer').astype(int)\n",
        "df['is_musculoskeletal'] = df['ind_list'].apply(lambda x: x == 'tendon contracture').astype(int)\n",
        "df['is_neurological'] = df['ind_list'].apply(lambda x: x == 'essential tremor' or x == 'obsessive compulsive disorder' or x == 'diffuse intrinsic pontine glioma' or x == \"alzheimer's disease\" or x == 'stroke intracerebral hemorrhage' or x == 'spinal cord injury').astype(int)\n",
        "df['is_oncological'] = df['ind_list'].apply(lambda x: x == 'liver cancer' or x == 'pancreatic cancer' or x == 'soft tissue tumors' or x == 'cervical cancer' or x == 'glioblastoma' or x == 'bone metastasis').astype(int)\n",
        "#df['is_opthalmological'] = df['ind_list'].apply(lambda x: x == '').astype(int)\n",
        "#df['is_respiratory'] = df['ind_list'].apply(lambda x: x == '').astype(int)\n",
        "df['is_womenshealth'] = df['ind_list'].apply(lambda x: x == 'retained placenta' or x == 'uterine adenmyosis' or x == 'uterine fibroids' or x == 'cervicitis').astype(int)\n",
        "df['is_miscellaneous'] = df['ind_list'].apply(lambda x: x == 'ablation' or x == 'lichen sclerosis').astype(int)"
      ]
    },
    {
      "cell_type": "code",
      "execution_count": null,
      "id": "c4b0e1c7-25eb-4c2a-866d-6e551f899ce8",
      "metadata": {
        "id": "c4b0e1c7-25eb-4c2a-866d-6e551f899ce8"
      },
      "outputs": [],
      "source": [
        "#just confirming the counts for women's health\n",
        "df.is_womenshealth.value_counts()"
      ]
    },
    {
      "cell_type": "code",
      "execution_count": null,
      "id": "3d42087d-8427-4db6-813f-96604a87c6e5",
      "metadata": {
        "id": "3d42087d-8427-4db6-813f-96604a87c6e5"
      },
      "outputs": [],
      "source": [
        "df"
      ]
    },
    {
      "cell_type": "code",
      "execution_count": null,
      "id": "fbe03856-2692-4365-9d33-a905c2721eb3",
      "metadata": {
        "id": "fbe03856-2692-4365-9d33-a905c2721eb3"
      },
      "outputs": [],
      "source": [
        "#final dataframe for analysis?\n",
        "final_df = df[['abstract', 'fus_related', 'is_cardiovascular', 'is_endocrine', 'is_gastrointestinal', 'is_musculoskeletal', 'is_neurological', 'is_womenshealth', 'is_miscellaneous']]"
      ]
    },
    {
      "cell_type": "code",
      "execution_count": null,
      "id": "4c225a2b-062a-4eb1-8675-c5a5f45235bb",
      "metadata": {
        "id": "4c225a2b-062a-4eb1-8675-c5a5f45235bb"
      },
      "outputs": [],
      "source": [
        "final_df.to_csv('final_df.csv', index=False)"
      ]
    },
    {
      "cell_type": "code",
      "execution_count": null,
      "id": "80aba620-7d93-4cbc-a596-899e2c981241",
      "metadata": {
        "id": "80aba620-7d93-4cbc-a596-899e2c981241"
      },
      "outputs": [],
      "source": [
        "#there are 32 files that do not have abstracts... we should manually input these abstracts\n",
        "final_df['abstract'].isna().sum()"
      ]
    },
    {
      "cell_type": "code",
      "execution_count": null,
      "id": "a002c6f0-224b-4249-bcc5-16c16c3dbac3",
      "metadata": {
        "id": "a002c6f0-224b-4249-bcc5-16c16c3dbac3"
      },
      "outputs": [],
      "source": []
    }
  ],
  "metadata": {
    "kernelspec": {
      "display_name": "Python 3 (ipykernel)",
      "language": "python",
      "name": "python3"
    },
    "language_info": {
      "codemirror_mode": {
        "name": "ipython",
        "version": 3
      },
      "file_extension": ".py",
      "mimetype": "text/x-python",
      "name": "python",
      "nbconvert_exporter": "python",
      "pygments_lexer": "ipython3",
      "version": "3.10.9"
    },
    "colab": {
      "provenance": []
    }
  },
  "nbformat": 4,
  "nbformat_minor": 5
}