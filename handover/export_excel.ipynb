{
 "cells": [
  {
   "cell_type": "code",
   "execution_count": 18,
   "id": "6fc7f23b-0f73-49b6-9025-dcd0ba987d6c",
   "metadata": {
    "tags": []
   },
   "outputs": [
    {
     "name": "stdout",
     "output_type": "stream",
     "text": [
      "/sfs/gpfs/tardis/project/SDS/capstones/ds6013/focused_ultrasound/MSDS_FUSCapstone23/models/hyperparms\n"
     ]
    }
   ],
   "source": [
    "%cd /sfs/gpfs/tardis/project/SDS/capstones/ds6013/focused_ultrasound/MSDS_FUSCapstone23/models/hyperparms"
   ]
  },
  {
   "cell_type": "code",
   "execution_count": 1,
   "id": "3daaa326-50b3-4231-8eb3-840943ccf4de",
   "metadata": {
    "tags": []
   },
   "outputs": [
    {
     "name": "stderr",
     "output_type": "stream",
     "text": [
      "Some weights of BertForSequenceClassification were not initialized from the model checkpoint at emilyalsentzer/Bio_ClinicalBERT and are newly initialized: ['classifier.bias', 'classifier.weight']\n",
      "You should probably TRAIN this model on a down-stream task to be able to use it for predictions and inference.\n"
     ]
    },
    {
     "data": {
      "text/plain": [
       "BertForSequenceClassification(\n",
       "  (bert): BertModel(\n",
       "    (embeddings): BertEmbeddings(\n",
       "      (word_embeddings): Embedding(28996, 768, padding_idx=0)\n",
       "      (position_embeddings): Embedding(512, 768)\n",
       "      (token_type_embeddings): Embedding(2, 768)\n",
       "      (LayerNorm): LayerNorm((768,), eps=1e-12, elementwise_affine=True)\n",
       "      (dropout): Dropout(p=0.1, inplace=False)\n",
       "    )\n",
       "    (encoder): BertEncoder(\n",
       "      (layer): ModuleList(\n",
       "        (0-11): 12 x BertLayer(\n",
       "          (attention): BertAttention(\n",
       "            (self): BertSelfAttention(\n",
       "              (query): Linear(in_features=768, out_features=768, bias=True)\n",
       "              (key): Linear(in_features=768, out_features=768, bias=True)\n",
       "              (value): Linear(in_features=768, out_features=768, bias=True)\n",
       "              (dropout): Dropout(p=0.1, inplace=False)\n",
       "            )\n",
       "            (output): BertSelfOutput(\n",
       "              (dense): Linear(in_features=768, out_features=768, bias=True)\n",
       "              (LayerNorm): LayerNorm((768,), eps=1e-12, elementwise_affine=True)\n",
       "              (dropout): Dropout(p=0.1, inplace=False)\n",
       "            )\n",
       "          )\n",
       "          (intermediate): BertIntermediate(\n",
       "            (dense): Linear(in_features=768, out_features=3072, bias=True)\n",
       "            (intermediate_act_fn): GELUActivation()\n",
       "          )\n",
       "          (output): BertOutput(\n",
       "            (dense): Linear(in_features=3072, out_features=768, bias=True)\n",
       "            (LayerNorm): LayerNorm((768,), eps=1e-12, elementwise_affine=True)\n",
       "            (dropout): Dropout(p=0.1, inplace=False)\n",
       "          )\n",
       "        )\n",
       "      )\n",
       "    )\n",
       "    (pooler): BertPooler(\n",
       "      (dense): Linear(in_features=768, out_features=768, bias=True)\n",
       "      (activation): Tanh()\n",
       "    )\n",
       "  )\n",
       "  (dropout): Dropout(p=0.1, inplace=False)\n",
       "  (classifier): Linear(in_features=768, out_features=2, bias=True)\n",
       ")"
      ]
     },
     "execution_count": 1,
     "metadata": {},
     "output_type": "execute_result"
    }
   ],
   "source": [
    "import torch\n",
    "from transformers import AutoModelForSequenceClassification, AutoTokenizer\n",
    "\n",
    "# path where the model and tokenizer were saved\n",
    "model_save_path = './fusBERT.pt'\n",
    "tokenizer_save_path = './tokenizer'\n",
    "\n",
    "# initialize the model and tokenizer\n",
    "model = AutoModelForSequenceClassification.from_pretrained(\"emilyalsentzer/Bio_ClinicalBERT\", num_labels=2)\n",
    "tokenizer = AutoTokenizer.from_pretrained(tokenizer_save_path)\n",
    "\n",
    "# load the model's state_dict\n",
    "model.load_state_dict(torch.load(model_save_path))\n",
    "\n",
    "model.eval()"
   ]
  },
  {
   "cell_type": "code",
   "execution_count": 2,
   "id": "213fe47d-c899-403f-aa39-3b703c1bc590",
   "metadata": {
    "tags": []
   },
   "outputs": [],
   "source": [
    "def predict_abstract(abstract):\n",
    "    # Ensure the model is on the correct device (GPU or CPU)\n",
    "    device = torch.device(\"cuda\" if torch.cuda.is_available() else \"cpu\")\n",
    "    model.to(device)\n",
    "    \n",
    "    # Tokenize the input abstract\n",
    "    inputs = tokenizer(abstract, padding=True, truncation=True, max_length=512, return_tensors=\"pt\")\n",
    "    \n",
    "    # Move the tokenized inputs to the same device as the model\n",
    "    inputs = {key: value.to(device) for key, value in inputs.items()}\n",
    "\n",
    "    # Predict\n",
    "    with torch.no_grad():\n",
    "        logits = model(**inputs).logits\n",
    "    \n",
    "    # Print the raw logits\n",
    "    # print(\"Raw logits:\", logits)\n",
    "    \n",
    "    # Convert logits to probabilities using softmax\n",
    "    probs = torch.nn.functional.softmax(logits, dim=1)\n",
    "    confidence, prediction = torch.max(probs, dim=1)\n",
    "    \n",
    "    # Move predictions back to CPU for easy handling (if they were on GPU)\n",
    "    confidence = confidence.cpu().item() * 100  # as percentage\n",
    "    prediction = prediction.cpu().item()  # binary indication\n",
    "    \n",
    "    return prediction, confidence, logits.cpu().numpy()\n"
   ]
  },
  {
   "cell_type": "code",
   "execution_count": 4,
   "id": "a3b092d9-0732-4476-a26a-6180318f57f5",
   "metadata": {
    "tags": []
   },
   "outputs": [],
   "source": [
    "# read in excel sheet\n",
    "import pandas as pd\n",
    "\n",
    "file_path = 'updated_Publication_data_2024-04-01.xlsx' #update file path to relevant file\n",
    "df = pd.read_excel(file_path)"
   ]
  },
  {
   "cell_type": "code",
   "execution_count": 5,
   "id": "d1abfbaf-2d33-4779-a5df-c06f1a907ce6",
   "metadata": {
    "tags": []
   },
   "outputs": [],
   "source": [
    "# Prediction and confidence assignment\n",
    "predictions, confidences, raw_logits = [], [], []\n",
    "\n",
    "for abstract in df['Abstract'].astype(str):\n",
    "    prediction, confidence, logits = predict_abstract(abstract)\n",
    "    predictions.append(prediction)\n",
    "    confidences.append(confidence)\n",
    "    raw_logits.append(logits.tolist())  # Convert numpy array to list for DataFrame compatibility\n",
    "\n",
    "# Add the new data to the DataFrame\n",
    "df['Prediction'] = predictions\n",
    "df['Confidence'] = confidences\n",
    "df['Logits'] = raw_logits\n",
    "\n",
    "\n",
    "# Update DataFrame\n",
    "df['Prediction'] = predictions\n",
    "df['Confidence'] = confidences\n",
    "\n",
    "# Save to a new Excel file\n",
    "output_file_path = 'double_updated_Publication_data_2024-04-01.xlsx'\n",
    "df.to_excel(output_file_path, index=False)"
   ]
  }
 ],
 "metadata": {
  "kernelspec": {
   "display_name": "Python 3 (ipykernel)",
   "language": "python",
   "name": "python3"
  },
  "language_info": {
   "codemirror_mode": {
    "name": "ipython",
    "version": 3
   },
   "file_extension": ".py",
   "mimetype": "text/x-python",
   "name": "python",
   "nbconvert_exporter": "python",
   "pygments_lexer": "ipython3",
   "version": "3.11.4"
  }
 },
 "nbformat": 4,
 "nbformat_minor": 5
}
